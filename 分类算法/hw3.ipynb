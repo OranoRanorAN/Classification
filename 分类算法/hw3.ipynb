{
 "cells": [
  {
   "cell_type": "code",
   "execution_count": 1,
   "id": "606cb03d",
   "metadata": {},
   "outputs": [],
   "source": [
    "#from sklearn.datasets import load_iris\n",
    "\n",
    "from sklearn.naive_bayes import BernoulliNB\n",
    "from sklearn.naive_bayes import MultinomialNB\n",
    "\n",
    "from sklearn.ensemble import RandomForestClassifier\n",
    "from sklearn.model_selection import cross_val_score\n",
    "from sklearn import tree\n",
    "from sklearn import model_selection\n",
    "\n",
    "from sklearn.model_selection import RandomizedSearchCV\n",
    "from sklearn.model_selection import GridSearchCV \n",
    "from sklearn.tree import DecisionTreeClassifier as dtc # 树算法\n",
    "from sklearn.model_selection import train_test_split # 拆分数据\n",
    "from sklearn.metrics import accuracy_score, roc_curve, auc #模型准确度\n",
    "from sklearn.tree import plot_tree # 树图\n",
    "from sklearn import neural_network\n",
    "from sklearn.metrics import confusion_matrix, classification_report, roc_auc_score\n",
    "from sklearn.metrics import ConfusionMatrixDisplay\n",
    "\n",
    "import matplotlib.pyplot as plt\n",
    "import pandas as pd\n",
    "import numpy as np\n",
    "import random"
   ]
  },
  {
   "cell_type": "code",
   "execution_count": 2,
   "id": "e2fb372d",
   "metadata": {},
   "outputs": [
    {
     "name": "stdout",
     "output_type": "stream",
     "text": [
      "(8999, 23)\n",
      "8846\n",
      "8780\n",
      "8731\n",
      "7687\n"
     ]
    }
   ],
   "source": [
    "#读取txt文件\n",
    "f = open(\"TeleComm_User_Info.txt\",encoding = 'gb2312')\n",
    "df= pd.read_csv(f) #会默认第一行是name\n",
    "print(df.shape)\n",
    "df.to_csv('TeleComm_User_Info.csv',encoding = 'gb2312')\n",
    "df=df.loc[(df['客户类型']=='公众客户')]\n",
    "print(len(df))\n",
    "df=df.loc[(df['性别']!='无法区分')]\n",
    "print(len(df))\n",
    "df=df.loc[(df['渠道类型描述']!='其他渠道')]\n",
    "print(len(df))\n",
    "df=df.loc[(df['终端类型']!='0')]\n",
    "#print('drop终端类型',len(df))\n",
    "df.isna().sum()\n",
    "df=df.dropna()\n",
    "print(len(df))\n",
    "dfori=df\n",
    "df.to_csv('TeleComm_2.csv',encoding = 'gb2312')"
   ]
  },
  {
   "cell_type": "code",
   "execution_count": 3,
   "id": "aa7137ad",
   "metadata": {
    "scrolled": true
   },
   "outputs": [
    {
     "name": "stdout",
     "output_type": "stream",
     "text": [
      "Index(['用户ID', '性别', '年龄', '归属地', '在网时长', '换机频率', '终端品牌', '终端类型', '最近使用操作系统偏好',\n",
      "       '渠道类型描述', '上网流量使用', '漫游流量使用', '总收入', '增值收入', '流量收入', '短信收入', '彩信收入',\n",
      "       '语音收入', '是否欠费', '产品大类', '产品分类'],\n",
      "      dtype='object')\n"
     ]
    },
    {
     "data": {
      "text/html": [
       "<div>\n",
       "<style scoped>\n",
       "    .dataframe tbody tr th:only-of-type {\n",
       "        vertical-align: middle;\n",
       "    }\n",
       "\n",
       "    .dataframe tbody tr th {\n",
       "        vertical-align: top;\n",
       "    }\n",
       "\n",
       "    .dataframe thead th {\n",
       "        text-align: right;\n",
       "    }\n",
       "</style>\n",
       "<table border=\"1\" class=\"dataframe\">\n",
       "  <thead>\n",
       "    <tr style=\"text-align: right;\">\n",
       "      <th></th>\n",
       "      <th>性别</th>\n",
       "      <th>年龄</th>\n",
       "      <th>归属地</th>\n",
       "      <th>在网时长</th>\n",
       "      <th>换机频率</th>\n",
       "      <th>终端品牌</th>\n",
       "      <th>终端类型</th>\n",
       "      <th>最近使用操作系统偏好</th>\n",
       "      <th>渠道类型描述</th>\n",
       "      <th>上网流量使用</th>\n",
       "      <th>漫游流量使用</th>\n",
       "      <th>总收入</th>\n",
       "      <th>增值收入</th>\n",
       "      <th>流量收入</th>\n",
       "      <th>短信收入</th>\n",
       "      <th>彩信收入</th>\n",
       "      <th>语音收入</th>\n",
       "      <th>是否欠费</th>\n",
       "      <th>产品大类</th>\n",
       "      <th>产品分类</th>\n",
       "    </tr>\n",
       "  </thead>\n",
       "  <tbody>\n",
       "    <tr>\n",
       "      <th>0</th>\n",
       "      <td>女</td>\n",
       "      <td>20.0</td>\n",
       "      <td>石家庄</td>\n",
       "      <td>15</td>\n",
       "      <td>频繁换机型</td>\n",
       "      <td>LG</td>\n",
       "      <td>4G</td>\n",
       "      <td>ANDROID 5.1.0</td>\n",
       "      <td>社会渠道</td>\n",
       "      <td>568.399661</td>\n",
       "      <td>0.000000</td>\n",
       "      <td>76.25</td>\n",
       "      <td>45.90</td>\n",
       "      <td>35.7</td>\n",
       "      <td>1.20</td>\n",
       "      <td>1.2</td>\n",
       "      <td>4.35</td>\n",
       "      <td>否</td>\n",
       "      <td>本地套餐</td>\n",
       "      <td>4G本地套餐-26元套餐</td>\n",
       "    </tr>\n",
       "    <tr>\n",
       "      <th>1</th>\n",
       "      <td>女</td>\n",
       "      <td>63.0</td>\n",
       "      <td>北京</td>\n",
       "      <td>70</td>\n",
       "      <td>频繁换机型</td>\n",
       "      <td>苹果</td>\n",
       "      <td>3G</td>\n",
       "      <td>IOS 6.0</td>\n",
       "      <td>社会渠道</td>\n",
       "      <td>106.718701</td>\n",
       "      <td>6.202381</td>\n",
       "      <td>73.77</td>\n",
       "      <td>1.56</td>\n",
       "      <td>15.0</td>\n",
       "      <td>1.56</td>\n",
       "      <td>0.0</td>\n",
       "      <td>0.96</td>\n",
       "      <td>否</td>\n",
       "      <td>智慧沃家共享</td>\n",
       "      <td>智慧沃家共享套餐-全国流量包49.9元1GB</td>\n",
       "    </tr>\n",
       "  </tbody>\n",
       "</table>\n",
       "</div>"
      ],
      "text/plain": [
       "  性别    年龄  归属地  在网时长   换机频率 终端品牌 终端类型     最近使用操作系统偏好 渠道类型描述      上网流量使用  \\\n",
       "0  女  20.0  石家庄    15  频繁换机型   LG   4G  ANDROID 5.1.0   社会渠道  568.399661   \n",
       "1  女  63.0   北京    70  频繁换机型   苹果   3G        IOS 6.0   社会渠道  106.718701   \n",
       "\n",
       "     漫游流量使用    总收入   增值收入  流量收入  短信收入  彩信收入  语音收入 是否欠费    产品大类  \\\n",
       "0  0.000000  76.25  45.90  35.7  1.20   1.2  4.35    否    本地套餐   \n",
       "1  6.202381  73.77   1.56  15.0  1.56   0.0  0.96    否  智慧沃家共享   \n",
       "\n",
       "                     产品分类  \n",
       "0            4G本地套餐-26元套餐  \n",
       "1  智慧沃家共享套餐-全国流量包49.9元1GB  "
      ]
     },
     "execution_count": 3,
     "metadata": {},
     "output_type": "execute_result"
    }
   ],
   "source": [
    "df= pd.read_csv('TeleComm_2.csv',encoding = 'gb2312')\n",
    "df=df.drop(['Unnamed: 0','客户类型','入网渠道类型'], axis=1)\n",
    "print(df.columns)\n",
    "df.iloc[:,1:].head(2)"
   ]
  },
  {
   "cell_type": "code",
   "execution_count": 4,
   "id": "4b2e0dc8",
   "metadata": {
    "scrolled": true
   },
   "outputs": [
    {
     "name": "stdout",
     "output_type": "stream",
     "text": [
      "性别 {'女': 0, '男': 1}\n",
      "归属地 {'保定': 0, '北京': 1, '唐山': 2, '天津': 3, '廊坊': 4, '张家口': 5, '承德': 6, '沧州': 7, '石家庄': 8, '秦皇岛': 9, '衡水': 10, '邢台': 11, '邯郸': 12}\n",
      "换机频率 {'从不换机型': 0, '偶尔换机型': 1, '频繁换机型': 2}\n",
      "终端类型 {'2G': 0, '3G': 1, '4G': 2}\n",
      "是否欠费 {'否': 0, '是': 1}\n",
      "产品大类 {'4G全国语音套餐': 0, '4G本地行业套餐': 1, '4G本地语音套餐': 2, '4G本地迁转套餐': 3, '共享自由组合': 4, '国内流量套餐': 5, '基本套餐': 6, '智慧沃家共享': 7, '本地套餐': 8, '校园专属-小区A套餐': 9, '校园专属-小区基本套餐': 10, '校园专属-沃派': 11, '校园专属-非小区A套餐': 12, '校园专属-非小区B套餐': 13, '校园专属-非小区基本套餐': 14, '省内流量套餐': 15}\n"
     ]
    }
   ],
   "source": [
    "trial = df.copy()\n",
    "gender_mapping = {label:idx for idx, label in enumerate(np.unique(trial.性别))}\n",
    "trial.性别 = trial.性别.map(gender_mapping)\n",
    "print('性别',gender_mapping)\n",
    "\n",
    "location_mapping = {label:idx for idx, label in enumerate(np.unique(trial.归属地))}\n",
    "trial.归属地 = trial.归属地.map(location_mapping)\n",
    "print('归属地',location_mapping)\n",
    "\n",
    "frequency_mapping = {label:idx for idx, label in enumerate(np.unique(trial.换机频率))}\n",
    "trial.换机频率 = trial.换机频率.map(frequency_mapping)\n",
    "print('换机频率',frequency_mapping)\n",
    "\n",
    "terminal_mapping = {label:idx for idx, label in enumerate(np.unique(trial.终端类型))}\n",
    "trial.终端类型 = trial.终端类型.map(terminal_mapping)\n",
    "print('终端类型',terminal_mapping)\n",
    "\n",
    "owe_mapping = {label:idx for idx, label in enumerate(np.unique(trial.是否欠费))}\n",
    "trial.是否欠费 = trial.是否欠费.map(owe_mapping)\n",
    "print('是否欠费',owe_mapping)\n",
    "\n",
    "product_mapping = {label:idx for idx, label in enumerate(np.unique(trial.产品大类))}\n",
    "trial.产品大类 = trial.产品大类.map(product_mapping)\n",
    "print('产品大类',product_mapping)\n",
    "\n",
    "product_mapping = {label:idx for idx, label in enumerate(np.unique(trial.最近使用操作系统偏好))}\n",
    "trial.最近使用操作系统偏好 = trial.最近使用操作系统偏好.map(product_mapping)\n",
    "#print('最近使用操作系统偏好',product_mapping)"
   ]
  },
  {
   "cell_type": "code",
   "execution_count": 5,
   "id": "59a254f7",
   "metadata": {},
   "outputs": [],
   "source": [
    "trial2 = trial.drop(['终端品牌','产品分类','渠道类型描述'], axis=1)\n",
    "trial2['channel']=trial['渠道类型描述']\n",
    "trial2['is_train'] = np.random.uniform(0, 1, len(df)) <= .7\n",
    "#trial2.head()\n",
    "features = trial2.columns[1:-2]\n",
    "data = trial2[features].values\n",
    "target,_= pd.factorize(trial2['channel'])\n",
    "train, test = trial2[trial2['is_train']==True], trial2[trial2['is_train']==False]"
   ]
  },
  {
   "cell_type": "code",
   "execution_count": 81,
   "id": "8f4e53b2",
   "metadata": {
    "scrolled": true
   },
   "outputs": [
    {
     "data": {
      "text/html": [
       "<div>\n",
       "<style scoped>\n",
       "    .dataframe tbody tr th:only-of-type {\n",
       "        vertical-align: middle;\n",
       "    }\n",
       "\n",
       "    .dataframe tbody tr th {\n",
       "        vertical-align: top;\n",
       "    }\n",
       "\n",
       "    .dataframe thead th {\n",
       "        text-align: right;\n",
       "    }\n",
       "</style>\n",
       "<table border=\"1\" class=\"dataframe\">\n",
       "  <thead>\n",
       "    <tr style=\"text-align: right;\">\n",
       "      <th></th>\n",
       "      <th>用户ID</th>\n",
       "      <th>性别</th>\n",
       "      <th>年龄</th>\n",
       "      <th>归属地</th>\n",
       "      <th>在网时长</th>\n",
       "      <th>换机频率</th>\n",
       "      <th>终端类型</th>\n",
       "      <th>最近使用操作系统偏好</th>\n",
       "      <th>上网流量使用</th>\n",
       "      <th>漫游流量使用</th>\n",
       "      <th>总收入</th>\n",
       "      <th>增值收入</th>\n",
       "      <th>流量收入</th>\n",
       "      <th>短信收入</th>\n",
       "      <th>彩信收入</th>\n",
       "      <th>语音收入</th>\n",
       "      <th>是否欠费</th>\n",
       "      <th>产品大类</th>\n",
       "      <th>channel</th>\n",
       "      <th>is_train</th>\n",
       "    </tr>\n",
       "  </thead>\n",
       "  <tbody>\n",
       "    <tr>\n",
       "      <th>0</th>\n",
       "      <td>00891A97FB48EA2B4F552111D97B1870</td>\n",
       "      <td>0</td>\n",
       "      <td>20.0</td>\n",
       "      <td>8</td>\n",
       "      <td>15</td>\n",
       "      <td>2</td>\n",
       "      <td>2</td>\n",
       "      <td>23</td>\n",
       "      <td>568.399661</td>\n",
       "      <td>0.000000</td>\n",
       "      <td>76.25</td>\n",
       "      <td>45.90</td>\n",
       "      <td>35.7</td>\n",
       "      <td>1.20</td>\n",
       "      <td>1.2</td>\n",
       "      <td>4.35</td>\n",
       "      <td>0</td>\n",
       "      <td>8</td>\n",
       "      <td>社会渠道</td>\n",
       "      <td>True</td>\n",
       "    </tr>\n",
       "    <tr>\n",
       "      <th>1</th>\n",
       "      <td>00F84124D037DCC637FFE3C6EAAB492E</td>\n",
       "      <td>0</td>\n",
       "      <td>63.0</td>\n",
       "      <td>1</td>\n",
       "      <td>70</td>\n",
       "      <td>2</td>\n",
       "      <td>1</td>\n",
       "      <td>31</td>\n",
       "      <td>106.718701</td>\n",
       "      <td>6.202381</td>\n",
       "      <td>73.77</td>\n",
       "      <td>1.56</td>\n",
       "      <td>15.0</td>\n",
       "      <td>1.56</td>\n",
       "      <td>0.0</td>\n",
       "      <td>0.96</td>\n",
       "      <td>0</td>\n",
       "      <td>7</td>\n",
       "      <td>社会渠道</td>\n",
       "      <td>True</td>\n",
       "    </tr>\n",
       "    <tr>\n",
       "      <th>2</th>\n",
       "      <td>0129B973BF31D6B4086C7E38F7BFF43E</td>\n",
       "      <td>1</td>\n",
       "      <td>21.0</td>\n",
       "      <td>1</td>\n",
       "      <td>33</td>\n",
       "      <td>2</td>\n",
       "      <td>2</td>\n",
       "      <td>24</td>\n",
       "      <td>3930.230795</td>\n",
       "      <td>2.016909</td>\n",
       "      <td>164.60</td>\n",
       "      <td>15.00</td>\n",
       "      <td>1.6</td>\n",
       "      <td>15.00</td>\n",
       "      <td>0.0</td>\n",
       "      <td>23.60</td>\n",
       "      <td>1</td>\n",
       "      <td>5</td>\n",
       "      <td>社会渠道</td>\n",
       "      <td>True</td>\n",
       "    </tr>\n",
       "    <tr>\n",
       "      <th>3</th>\n",
       "      <td>01EBB91E44F31EF4D70A4B9A5E72D9D3</td>\n",
       "      <td>1</td>\n",
       "      <td>20.0</td>\n",
       "      <td>3</td>\n",
       "      <td>45</td>\n",
       "      <td>2</td>\n",
       "      <td>2</td>\n",
       "      <td>34</td>\n",
       "      <td>2026.990448</td>\n",
       "      <td>1938.247254</td>\n",
       "      <td>227.30</td>\n",
       "      <td>104.84</td>\n",
       "      <td>120.0</td>\n",
       "      <td>3.00</td>\n",
       "      <td>0.0</td>\n",
       "      <td>18.15</td>\n",
       "      <td>0</td>\n",
       "      <td>6</td>\n",
       "      <td>社会渠道</td>\n",
       "      <td>False</td>\n",
       "    </tr>\n",
       "    <tr>\n",
       "      <th>4</th>\n",
       "      <td>02771333B92DF691B363A9DDEF7312D7</td>\n",
       "      <td>1</td>\n",
       "      <td>23.0</td>\n",
       "      <td>1</td>\n",
       "      <td>45</td>\n",
       "      <td>2</td>\n",
       "      <td>2</td>\n",
       "      <td>20</td>\n",
       "      <td>5732.901909</td>\n",
       "      <td>1082.158408</td>\n",
       "      <td>144.00</td>\n",
       "      <td>75.00</td>\n",
       "      <td>60.0</td>\n",
       "      <td>15.00</td>\n",
       "      <td>0.0</td>\n",
       "      <td>9.00</td>\n",
       "      <td>0</td>\n",
       "      <td>11</td>\n",
       "      <td>社会渠道</td>\n",
       "      <td>True</td>\n",
       "    </tr>\n",
       "  </tbody>\n",
       "</table>\n",
       "</div>"
      ],
      "text/plain": [
       "                               用户ID  性别    年龄  归属地  在网时长  换机频率  终端类型  \\\n",
       "0  00891A97FB48EA2B4F552111D97B1870   0  20.0    8    15     2     2   \n",
       "1  00F84124D037DCC637FFE3C6EAAB492E   0  63.0    1    70     2     1   \n",
       "2  0129B973BF31D6B4086C7E38F7BFF43E   1  21.0    1    33     2     2   \n",
       "3  01EBB91E44F31EF4D70A4B9A5E72D9D3   1  20.0    3    45     2     2   \n",
       "4  02771333B92DF691B363A9DDEF7312D7   1  23.0    1    45     2     2   \n",
       "\n",
       "   最近使用操作系统偏好       上网流量使用       漫游流量使用     总收入    增值收入   流量收入   短信收入  彩信收入  \\\n",
       "0          23   568.399661     0.000000   76.25   45.90   35.7   1.20   1.2   \n",
       "1          31   106.718701     6.202381   73.77    1.56   15.0   1.56   0.0   \n",
       "2          24  3930.230795     2.016909  164.60   15.00    1.6  15.00   0.0   \n",
       "3          34  2026.990448  1938.247254  227.30  104.84  120.0   3.00   0.0   \n",
       "4          20  5732.901909  1082.158408  144.00   75.00   60.0  15.00   0.0   \n",
       "\n",
       "    语音收入  是否欠费  产品大类 channel  is_train  \n",
       "0   4.35     0     8    社会渠道      True  \n",
       "1   0.96     0     7    社会渠道      True  \n",
       "2  23.60     1     5    社会渠道      True  \n",
       "3  18.15     0     6    社会渠道     False  \n",
       "4   9.00     0    11    社会渠道      True  "
      ]
     },
     "execution_count": 81,
     "metadata": {},
     "output_type": "execute_result"
    }
   ],
   "source": [
    "trial2.head()"
   ]
  },
  {
   "cell_type": "code",
   "execution_count": 6,
   "id": "0079ad87",
   "metadata": {},
   "outputs": [
    {
     "name": "stdout",
     "output_type": "stream",
     "text": [
      "全部预测为社会渠道:acc= 0.5424743072720177\n"
     ]
    }
   ],
   "source": [
    "#baseline 1: 全部预测为社会渠道\n",
    "acc=trial2.groupby(['channel'])['用户ID'].count()[0]/len(trial2)\n",
    "#0.5424743072720177\n",
    "print('全部预测为社会渠道:acc=',acc)"
   ]
  },
  {
   "cell_type": "code",
   "execution_count": 7,
   "id": "3eb2048a",
   "metadata": {},
   "outputs": [
    {
     "name": "stdout",
     "output_type": "stream",
     "text": [
      "伯努利朴素贝叶斯:accuracy= 0.5838428515675816\n",
      "高斯朴素贝叶斯:accuracy= 0.6185768180044231\n"
     ]
    }
   ],
   "source": [
    "#baseline 2: 朴素贝叶斯\n",
    "from sklearn.naive_bayes import BernoulliNB\n",
    "from sklearn.naive_bayes import MultinomialNB\n",
    "from sklearn.naive_bayes import GaussianNB\n",
    "\n",
    "clf = BernoulliNB()\n",
    "clf = clf.fit(data, target)\n",
    "y_pred=clf.predict(data)\n",
    "acc=1-((target != y_pred).sum())/data.shape[0]\n",
    "print(\"伯努利朴素贝叶斯:accuracy=\",acc)\n",
    "\n",
    "clf = GaussianNB()\n",
    "clf = clf.fit(data, target)\n",
    "y_pred=clf.predict(data)\n",
    "acc=1-((target != y_pred).sum())/data.shape[0]\n",
    "print(\"高斯朴素贝叶斯:accuracy=\",acc)"
   ]
  },
  {
   "cell_type": "code",
   "execution_count": 8,
   "id": "70b9e785",
   "metadata": {
    "scrolled": false
   },
   "outputs": [
    {
     "name": "stdout",
     "output_type": "stream",
     "text": [
      "决策树:accuracy= 67%\n"
     ]
    }
   ],
   "source": [
    "#baseline3:单颗决策树\n",
    "model = dtc(criterion = 'entropy', max_depth = 4,random_state=100)\n",
    "y, _ = pd.factorize(train['channel'])\n",
    "model.fit(train[features].values, y)\n",
    " \n",
    "pred_model = model.predict(test[features].values)\n",
    "y2, _ = pd.factorize(test['channel'])\n",
    "print('决策树:accuracy= {:.0%}'.format(accuracy_score(y2, pred_model)))"
   ]
  },
  {
   "cell_type": "markdown",
   "id": "a9c38eb9",
   "metadata": {},
   "source": [
    "# 随机森林"
   ]
  },
  {
   "cell_type": "code",
   "execution_count": 9,
   "id": "36f59ca5",
   "metadata": {},
   "outputs": [
    {
     "name": "stdout",
     "output_type": "stream",
     "text": [
      "confusion matrix:\n",
      " preds      0    1\n",
      "actual           \n",
      "0       1009  269\n",
      "1        436  593\n",
      "accuracy= 0.694408322496749\n",
      "precision= 0.7895148669796557\n",
      "recall= 0.6982698961937717\n",
      "cross_val_score= 0.6892150533904479\n",
      "obb= 0.6825278810408922\n"
     ]
    },
    {
     "data": {
      "image/png": "[encoded data removed]",
      "text/plain": [
       "<Figure size 432x288 with 2 Axes>"
      ]
     },
     "metadata": {
      "needs_background": "light"
     },
     "output_type": "display_data"
    }
   ],
   "source": [
    "#随机森林\n",
    "rnd = RandomForestClassifier(n_jobs=-1,random_state=50,oob_score=True)\n",
    "\n",
    "X_train, X_test, y_train, y_test = train_test_split(data, target, test_size=0.3, random_state=50)\n",
    "\n",
    "rnd.fit(X_train,y_train)\n",
    "y_pred=rnd.predict(X_test)\n",
    "a=pd.crosstab(y_test, y_pred, rownames=['actual'], colnames=['preds'])\n",
    "acc=(a.iloc[0,0]+a.iloc[1,1])/(a.iloc[0,0]+a.iloc[0,1]+a.iloc[1,0]+a.iloc[1,1])\n",
    "pre=(a.iloc[0,0])/(a.iloc[0,0]+a.iloc[0,1])\n",
    "rec=(a.iloc[0,0])/(a.iloc[0,0]+a.iloc[1,0])\n",
    "print('confusion matrix:\\n',a)\n",
    "print('accuracy=',acc)\n",
    "print('precision=',pre)\n",
    "print('recall=',rec)\n",
    "print('cross_val_score=',cross_val_score(rnd, data, target, cv=5).mean())\n",
    "print('obb=',rnd.oob_score_)\n",
    "a=confusion_matrix(y_test, y_pred)\n",
    "cm_display = ConfusionMatrixDisplay(a).plot(cmap=plt.cm.Blues)"
   ]
  },
  {
   "cell_type": "code",
   "execution_count": 13,
   "id": "93881def",
   "metadata": {},
   "outputs": [
    {
     "data": {
      "text/plain": [
       "Text(0, 0.5, 'TPR')"
      ]
     },
     "execution_count": 13,
     "metadata": {},
     "output_type": "execute_result"
    },
    {
     "data": {
      "image/png": "[encoded data removed]",
      "text/plain": [
       "<Figure size 432x288 with 1 Axes>"
      ]
     },
     "metadata": {
      "needs_background": "light"
     },
     "output_type": "display_data"
    }
   ],
   "source": [
    "fpr,tpr, thresholds = roc_curve(y_test,rnd.predict_proba(X_test)[:,1])\n",
    " \n",
    "plt.plot(fpr,tpr,label='ROC')\n",
    " \n",
    "plt.xlabel('FPR')\n",
    "plt.ylabel('TPR')"
   ]
  },
  {
   "cell_type": "code",
   "execution_count": 14,
   "id": "58c3acf8",
   "metadata": {},
   "outputs": [
    {
     "name": "stdout",
     "output_type": "stream",
     "text": [
      "271 0.690515612718949\n"
     ]
    }
   ],
   "source": [
    "#调参第一步：n_estimators\n",
    "cross = []\n",
    "for i  in range(0,300,10):\n",
    "    rf = RandomForestClassifier(n_estimators=i+1, n_jobs=-1,random_state=50)\n",
    "    cross_score = cross_val_score(rf, data, target, cv=5).mean()\n",
    "    cross.append(cross_score)\n",
    "print((cross.index(max(cross))*10)+1,max(cross))"
   ]
  },
  {
   "cell_type": "code",
   "execution_count": 15,
   "id": "2b650ea1",
   "metadata": {
    "scrolled": true
   },
   "outputs": [
    {
     "data": {
      "image/png": "[encoded data removed]",
      "text/plain": [
       "<Figure size 576x288 with 1 Axes>"
      ]
     },
     "metadata": {
      "needs_background": "light"
     },
     "output_type": "display_data"
    }
   ],
   "source": [
    "plt.figure(figsize=(8, 4))\n",
    "plt.plot(range(1,301,10),cross)\n",
    "plt.xlabel('n_estimators')\n",
    "plt.ylabel('acc')\n",
    "plt.show()\n",
    "#print('最优n_estimators',(cross.index(max(cross))*10)+1,max(cross))"
   ]
  },
  {
   "cell_type": "code",
   "execution_count": 235,
   "id": "d3513699",
   "metadata": {},
   "outputs": [],
   "source": [
    "cross = []\n",
    "for i  in range(260,280,1):\n",
    "    rf = RandomForestClassifier(n_estimators=i+1, n_jobs=-1,random_state=50)\n",
    "    cross_score = cross_val_score(rf, data, target, cv=5).mean()\n",
    "    cross.append(cross_score)"
   ]
  },
  {
   "cell_type": "code",
   "execution_count": 236,
   "id": "739f58f2",
   "metadata": {},
   "outputs": [
    {
     "data": {
      "image/png": "[encoded data removed]",
      "text/plain": [
       "<Figure size 576x288 with 1 Axes>"
      ]
     },
     "metadata": {
      "needs_background": "light"
     },
     "output_type": "display_data"
    },
    {
     "name": "stdout",
     "output_type": "stream",
     "text": [
      "271 0.690515612718949\n"
     ]
    }
   ],
   "source": [
    "plt.figure(figsize=(8, 4))\n",
    "plt.plot(range(261,281,1),cross)\n",
    "plt.xlabel('n_estimators')\n",
    "plt.ylabel('acc')\n",
    "plt.show()\n",
    "print((cross.index(max(cross))*1)+261,max(cross))\n",
    "n_est=(cross.index(max(cross))*1)+261"
   ]
  },
  {
   "cell_type": "code",
   "execution_count": 18,
   "id": "0ca97fca",
   "metadata": {},
   "outputs": [
    {
     "name": "stdout",
     "output_type": "stream",
     "text": [
      "{'max_features': 12}\n",
      "0.7009244022393445\n"
     ]
    }
   ],
   "source": [
    "param_grid = {'max_features' : np.arange(1,17,1)}\n",
    "#一般根据数据大小进行尝试，像该数据集 可从1-10 或1-20开始\n",
    "rf = RandomForestClassifier(n_estimators=n_est,random_state=50,n_jobs=-1)\n",
    "GS = GridSearchCV(rf,param_grid,cv=5)\n",
    "GS.fit(data,target)\n",
    "max_f=GS.best_params_['max_features']\n",
    "print(GS.best_params_)\n",
    "print(GS.best_score_)"
   ]
  },
  {
   "cell_type": "code",
   "execution_count": 223,
   "id": "6dd1a6dd",
   "metadata": {},
   "outputs": [
    {
     "name": "stdout",
     "output_type": "stream",
     "text": [
      "{'max_depth': 13}\n",
      "0.7074272834875838\n"
     ]
    }
   ],
   "source": [
    "param_grid = {'max_depth' : np.arange(1,30,1)}\n",
    "#一般根据数据大小进行尝试，像该数据集 可从1-10 或1-20开始\n",
    "rf = RandomForestClassifier(n_estimators=n_est,max_features=max_f,random_state=50,n_jobs=-1)\n",
    "GS = GridSearchCV(rf,param_grid,cv=5)\n",
    "GS.fit(data,target)\n",
    "max_d=GS.best_params_['max_depth']\n",
    "print(GS.best_params_)\n",
    "print(GS.best_score_)"
   ]
  },
  {
   "cell_type": "code",
   "execution_count": 20,
   "id": "2807b3e9",
   "metadata": {},
   "outputs": [
    {
     "name": "stdout",
     "output_type": "stream",
     "text": [
      "confusion matrix:\n",
      " preds      0    1\n",
      "actual           \n",
      "0       1025  253\n",
      "1        419  610\n",
      "accuracy= 0.7087126137841352\n",
      "precision= 0.8020344287949922\n",
      "recall= 0.7098337950138505\n",
      "cross_val_score= 0.5960743785920422\n",
      "obb= 0.7009293680297398\n"
     ]
    },
    {
     "data": {
      "image/png": "[encoded data removed]",
      "text/plain": [
       "<Figure size 432x288 with 2 Axes>"
      ]
     },
     "metadata": {
      "needs_background": "light"
     },
     "output_type": "display_data"
    }
   ],
   "source": [
    "rnd = RandomForestClassifier(n_jobs=-1,n_estimators=n_est,max_features=max_f,max_depth=13,\n",
    "                             random_state=50,oob_score=True)\n",
    "X_train, X_test, y_train, y_test = train_test_split(data, target, test_size=0.3, random_state= 50)\n",
    "\n",
    "rnd.fit(X_train,y_train)\n",
    "y_pred=rnd.predict(X_test)\n",
    "a=pd.crosstab(y_test, y_pred, rownames=['actual'], colnames=['preds'])\n",
    "acc=(a.iloc[0,0]+a.iloc[1,1])/(a.iloc[0,0]+a.iloc[0,1]+a.iloc[1,0]+a.iloc[1,1])\n",
    "pre=(a.iloc[0,0])/(a.iloc[0,0]+a.iloc[0,1])\n",
    "rec=(a.iloc[0,0])/(a.iloc[0,0]+a.iloc[1,0])\n",
    "print('confusion matrix:\\n',a)\n",
    "print('accuracy=',acc)\n",
    "print('precision=',pre)\n",
    "print('recall=',rec)\n",
    "print('cross_val_score=',cross_val_score(clf, data, target, cv=5).mean())\n",
    "print('obb=',rnd.oob_score_)\n",
    "a=confusion_matrix(y_test, y_pred)\n",
    "cm_display = ConfusionMatrixDisplay(a).plot(cmap=plt.cm.Blues)"
   ]
  },
  {
   "cell_type": "code",
   "execution_count": 24,
   "id": "660078e0",
   "metadata": {
    "scrolled": false
   },
   "outputs": [
    {
     "data": {
      "image/png": "[encoded data removed]",
      "text/plain": [
       "<Figure size 576x432 with 1 Axes>"
      ]
     },
     "metadata": {
      "needs_background": "light"
     },
     "output_type": "display_data"
    }
   ],
   "source": [
    "fpr_Nb, tpr_Nb, threshold = roc_curve(y_test, y_pred)\n",
    "aucval = auc(fpr_Nb, tpr_Nb)    # 计算auc的取值\n",
    "plt.figure(figsize=(8,6))\n",
    "plt.plot(fpr_Nb, tpr_Nb,\"r\",linewidth = 3)\n",
    "plt.grid()\n",
    "plt.xlabel(\"false positive\")\n",
    "plt.ylabel(\"true positive\")\n",
    "plt.xlim(0, 1)\n",
    "plt.ylim(0, 1)\n",
    "plt.title(\"ROC\")\n",
    "plt.text(0.15,0.9,\"AUC = \"+str(round(aucval,4)))\n",
    "plt.show()\n"
   ]
  },
  {
   "cell_type": "code",
   "execution_count": 36,
   "id": "c8cb536b",
   "metadata": {},
   "outputs": [
    {
     "data": {
      "text/plain": [
       "Text(0, 0.5, 'TPR')"
      ]
     },
     "execution_count": 36,
     "metadata": {},
     "output_type": "execute_result"
    },
    {
     "data": {
      "image/png": "[encoded data removed]",
      "text/plain": [
       "<Figure size 576x432 with 1 Axes>"
      ]
     },
     "metadata": {
      "needs_background": "light"
     },
     "output_type": "display_data"
    }
   ],
   "source": [
    "fpr,tpr, thresholds = roc_curve(y_test,rnd.predict_proba(X_test)[:,1])\n",
    "aucval = auc(fpr, tpr) \n",
    "plt.figure(figsize=(8,6))\n",
    "plt.plot(fpr, tpr,\"r\",linewidth = 1)\n",
    "plt.grid()\n",
    "plt.xlim(0, 1)\n",
    "plt.ylim(0, 1)\n",
    "plt.plot([0, 1], [0, 1], color='black', linestyle='--')\n",
    "plt.text(0.15,0.9,\"AUC = \"+str(round(aucval,4)))\n",
    "plt.xlabel('FPR')\n",
    "plt.ylabel('TPR')\n"
   ]
  },
  {
   "cell_type": "code",
   "execution_count": 37,
   "id": "307bac71",
   "metadata": {},
   "outputs": [
    {
     "name": "stdout",
     "output_type": "stream",
     "text": [
      " 1) 性别                             0.146783\n",
      " 2) 年龄                             0.138733\n",
      " 3) 归属地                            0.089952\n",
      " 4) 在网时长                           0.079088\n",
      " 5) 换机频率                           0.076729\n",
      " 6) 终端类型                           0.070941\n",
      " 7) 最近使用操作系统偏好                     0.070757\n",
      " 8) 上网流量使用                         0.059099\n",
      " 9) 漫游流量使用                         0.057437\n",
      "10) 总收入                            0.051996\n",
      "11) 增值收入                           0.051297\n",
      "12) 流量收入                           0.042586\n",
      "13) 短信收入                           0.037483\n",
      "14) 彩信收入                           0.010720\n",
      "15) 语音收入                           0.008336\n",
      "16) 是否欠费                           0.006476\n",
      "17) 产品大类                           0.001588\n"
     ]
    }
   ],
   "source": [
    "importances = rnd.feature_importances_\n",
    "indices = np.argsort(importances)[::-1] \n",
    "cols_name = features \n",
    "for f in range(17): \n",
    "    print(\"%2d) %-*s %f\" % (f + 1,30,cols_name[f],importances[indices[f]])) "
   ]
  },
  {
   "cell_type": "markdown",
   "id": "24593897",
   "metadata": {},
   "source": [
    "# KNN"
   ]
  },
  {
   "cell_type": "code",
   "execution_count": null,
   "id": "4523f775",
   "metadata": {},
   "outputs": [],
   "source": [
    "#KNN\n",
    "from sklearn.preprocessing import MinMaxScaler,StandardScaler\n",
    "from sklearn.neighbors import KNeighborsClassifier"
   ]
  },
  {
   "cell_type": "code",
   "execution_count": 232,
   "id": "6c4f30af",
   "metadata": {},
   "outputs": [
    {
     "name": "stdout",
     "output_type": "stream",
     "text": [
      "confusion matrix:\n",
      " preds     0    1\n",
      "actual          \n",
      "0       764  514\n",
      "1       554  475\n",
      "accuracy= 0.5370611183355006\n",
      "precision= 0.5978090766823161\n",
      "recall= 0.5796661608497724\n"
     ]
    },
    {
     "data": {
      "image/png": "[encoded data removed]",
      "text/plain": [
       "<Figure size 432x288 with 2 Axes>"
      ]
     },
     "metadata": {
      "needs_background": "light"
     },
     "output_type": "display_data"
    }
   ],
   "source": [
    "X_train, X_test, y_train, y_test = train_test_split(data, target, test_size=0.3, random_state=50)\n",
    "knn = KNeighborsClassifier(n_neighbors=3)\n",
    "knn.fit(X_train,y_train)\n",
    "y_pred=knn.predict(X_test)\n",
    "knn.fit(X_train,y_train)\n",
    "y_pred=knn.predict(X_test)\n",
    "a=pd.crosstab(y_test, y_pred, rownames=['actual'], colnames=['preds'])\n",
    "acc=(a.iloc[0,0]+a.iloc[1,1])/(a.iloc[0,0]+a.iloc[0,1]+a.iloc[1,0]+a.iloc[1,1])\n",
    "pre=(a.iloc[0,0])/(a.iloc[0,0]+a.iloc[0,1])\n",
    "rec=(a.iloc[0,0])/(a.iloc[0,0]+a.iloc[1,0])\n",
    "print('confusion matrix:\\n',a)\n",
    "print('accuracy=',acc)\n",
    "print('precision=',pre)\n",
    "print('recall=',rec)\n",
    "a=confusion_matrix(y_test, y_pred)\n",
    "cm_display = ConfusionMatrixDisplay(a).plot(cmap=plt.cm.Blues)"
   ]
  },
  {
   "cell_type": "code",
   "execution_count": 226,
   "id": "3c20ad7d",
   "metadata": {},
   "outputs": [
    {
     "name": "stdout",
     "output_type": "stream",
     "text": [
      "original accuracy=  0.5370611183355006\n",
      "Standard accuracy=  0.6168183788469874\n",
      "MinMax accuracy=  0.6302557433896836\n"
     ]
    }
   ],
   "source": [
    "s = StandardScaler()\n",
    "s_data = s.fit_transform(data)\n",
    "X_train, X_test, y_train, y_test = \n",
    "    train_test_split(s_data, target, test_size=0.3, random_state=100)\n",
    "knn.fit(X_train,y_train)\n",
    "y_pred=knn.predict(X_test)\n",
    "print('Standard accuracy= ',accuracy_score(y_test, y_pred))\n",
    "\n",
    "mm = MinMaxScaler()\n",
    "m_data = mm.fit_transform(data)\n",
    "X_train, X_test, y_train, y_test = \n",
    "    train_test_split(m_data, target, test_size=0.3, random_state=100)\n",
    "knn.fit(X_train,y_train)\n",
    "y_pred=knn.predict(X_test)\n",
    "print('MinMax accuracy= ',accuracy_score(y_test, y_pred))"
   ]
  },
  {
   "cell_type": "code",
   "execution_count": 245,
   "id": "6f861f6b",
   "metadata": {},
   "outputs": [],
   "source": [
    "#选择MinMaxScaler\n",
    "mm = MinMaxScaler()\n",
    "m_data = mm.fit_transform(data)\n",
    "X_train, X_test, y_train, y_test = train_test_split(m_data, target, test_size=0.3, random_state=100)"
   ]
  },
  {
   "cell_type": "code",
   "execution_count": 246,
   "id": "e543f712",
   "metadata": {},
   "outputs": [
    {
     "name": "stdout",
     "output_type": "stream",
     "text": [
      "best k =  18\n"
     ]
    },
    {
     "data": {
      "image/png": "[encoded data removed]",
      "text/plain": [
       "<Figure size 432x288 with 1 Axes>"
      ]
     },
     "metadata": {
      "needs_background": "light"
     },
     "output_type": "display_data"
    }
   ],
   "source": [
    "#利用学习曲线找 best k\n",
    "ks = np.arange(3,150,5)\n",
    "scores = []\n",
    "for k in ks:\n",
    "    knn = KNeighborsClassifier(n_neighbors=k)\n",
    "    knn.fit(X_train,y_train)\n",
    "    score = knn.score(X_test,y_test)\n",
    "    scores.append(score)\n",
    "scores = np.array(scores)\n",
    "plt.plot(ks,scores)\n",
    "plt.xlabel('k')\n",
    "plt.ylabel('score')\n",
    "max_value_index = scores.argmax()\n",
    "best_k = ks[max_value_index]\n",
    "print('best k = ',best_k)"
   ]
  },
  {
   "cell_type": "code",
   "execution_count": 247,
   "id": "c2a806e0",
   "metadata": {
    "scrolled": true
   },
   "outputs": [
    {
     "name": "stdout",
     "output_type": "stream",
     "text": [
      "confusion matrix:\n",
      " preds     0    1\n",
      "actual          \n",
      "0       984  251\n",
      "1       543  529\n",
      "accuracy= 0.6558300823580407\n",
      "precision= 0.7967611336032389\n",
      "recall= 0.6444007858546169\n"
     ]
    }
   ],
   "source": [
    "knn = KNeighborsClassifier(n_neighbors=best_k)\n",
    "knn.fit(X_train,y_train)\n",
    "y_pred=knn.predict(X_test)\n",
    "a=pd.crosstab(y_test, y_pred, rownames=['actual'], colnames=['preds'])\n",
    "acc=(a.iloc[0,0]+a.iloc[1,1])/(a.iloc[0,0]+a.iloc[0,1]+a.iloc[1,0]+a.iloc[1,1])\n",
    "pre=(a.iloc[0,0])/(a.iloc[0,0]+a.iloc[0,1])\n",
    "rec=(a.iloc[0,0])/(a.iloc[0,0]+a.iloc[1,0])\n",
    "print('confusion matrix:\\n',a)\n",
    "print('accuracy=',acc)\n",
    "print('precision=',pre)\n",
    "print('recall=',rec)"
   ]
  },
  {
   "cell_type": "code",
   "execution_count": 230,
   "id": "48c6e4a6",
   "metadata": {},
   "outputs": [
    {
     "data": {
      "image/png": "[encoded data removed]",
      "text/plain": [
       "<Figure size 432x288 with 2 Axes>"
      ]
     },
     "metadata": {
      "needs_background": "light"
     },
     "output_type": "display_data"
    }
   ],
   "source": [
    "a=confusion_matrix(y_test, y_pred)\n",
    "cm_display = ConfusionMatrixDisplay(a).plot(cmap=plt.cm.Blues)"
   ]
  },
  {
   "cell_type": "markdown",
   "id": "7e169637",
   "metadata": {},
   "source": [
    "# 逻辑回归"
   ]
  },
  {
   "cell_type": "code",
   "execution_count": 345,
   "id": "7d4a4d1d",
   "metadata": {},
   "outputs": [
    {
     "name": "stdout",
     "output_type": "stream",
     "text": [
      "confusion matrix:\n",
      " preds     0    1\n",
      "actual          \n",
      "0       852  383\n",
      "1       472  600\n",
      "accuracy= 0.6293888166449935\n",
      "precision= 0.6898785425101215\n",
      "recall= 0.6435045317220544\n"
     ]
    },
    {
     "name": "stderr",
     "output_type": "stream",
     "text": [
      "/Users/yanjue/opt/anaconda3/lib/python3.9/site-packages/sklearn/linear_model/_logistic.py:814: ConvergenceWarning: lbfgs failed to converge (status=1):\n",
      "STOP: TOTAL NO. of ITERATIONS REACHED LIMIT.\n",
      "\n",
      "Increase the number of iterations (max_iter) or scale the data as shown in:\n",
      "    https://scikit-learn.org/stable/modules/preprocessing.html\n",
      "Please also refer to the documentation for alternative solver options:\n",
      "    https://scikit-learn.org/stable/modules/linear_model.html#logistic-regression\n",
      "  n_iter_i = _check_optimize_result(\n"
     ]
    },
    {
     "data": {
      "image/png": "[encoded data removed]",
      "text/plain": [
       "<Figure size 432x288 with 2 Axes>"
      ]
     },
     "metadata": {
      "needs_background": "light"
     },
     "output_type": "display_data"
    }
   ],
   "source": [
    "#逻辑回归\n",
    "#X_train, X_test, y_train, y_test = train_test_split(data, target, test_size=0.3, random_state=100)\n",
    "from sklearn.preprocessing import PolynomialFeatures\n",
    "s = StandardScaler()\n",
    "s_data = s.fit_transform(data)\n",
    "X_train, X_test, y_train, y_test = train_test_split(data, target, test_size=0.3, random_state=100)\n",
    "\n",
    "log = LogisticRegression(random_state=50)\n",
    "log.fit(X_train,y_train)\n",
    "y_pred=log.predict(X_test)\n",
    "#print('accuracy= ',accuracy_score(y_test, y_pred))\n",
    "a=pd.crosstab(y_test, y_pred, rownames=['actual'], colnames=['preds'])\n",
    "acc=(a.iloc[0,0]+a.iloc[1,1])/(a.iloc[0,0]+a.iloc[0,1]+a.iloc[1,0]+a.iloc[1,1])\n",
    "pre=(a.iloc[0,0])/(a.iloc[0,0]+a.iloc[0,1])\n",
    "rec=(a.iloc[0,0])/(a.iloc[0,0]+a.iloc[1,0])\n",
    "print('confusion matrix:\\n',a)\n",
    "print('accuracy=',acc)\n",
    "print('precision=',pre)\n",
    "print('recall=',rec)\n",
    "a=confusion_matrix(y_test, y_pred)\n",
    "cm_display = ConfusionMatrixDisplay(a).plot(cmap=plt.cm.Blues)"
   ]
  },
  {
   "cell_type": "code",
   "execution_count": 349,
   "id": "5687b6bc",
   "metadata": {},
   "outputs": [
    {
     "name": "stdout",
     "output_type": "stream",
     "text": [
      "confusion matrix:\n",
      " preds     0    1\n",
      "actual          \n",
      "0       856  379\n",
      "1       474  598\n",
      "accuracy= 0.6302557433896836\n",
      "precision= 0.6931174089068826\n",
      "recall= 0.643609022556391\n"
     ]
    },
    {
     "data": {
      "image/png": "[encoded data removed]",
      "text/plain": [
       "<Figure size 432x288 with 2 Axes>"
      ]
     },
     "metadata": {
      "needs_background": "light"
     },
     "output_type": "display_data"
    }
   ],
   "source": [
    "s = StandardScaler()\n",
    "s_data = s.fit_transform(data)\n",
    "X_train, X_test, y_train, y_test = train_test_split(s_data, target, test_size=0.3, random_state=100)\n",
    "\n",
    "log = LogisticRegression(random_state=50)\n",
    "log.fit(X_train,y_train)\n",
    "y_pred=log.predict(X_test)\n",
    "#print('accuracy= ',accuracy_score(y_test, y_pred))\n",
    "a=pd.crosstab(y_test, y_pred, rownames=['actual'], colnames=['preds'])\n",
    "acc=(a.iloc[0,0]+a.iloc[1,1])/(a.iloc[0,0]+a.iloc[0,1]+a.iloc[1,0]+a.iloc[1,1])\n",
    "pre=(a.iloc[0,0])/(a.iloc[0,0]+a.iloc[0,1])\n",
    "rec=(a.iloc[0,0])/(a.iloc[0,0]+a.iloc[1,0])\n",
    "print('confusion matrix:\\n',a)\n",
    "print('accuracy=',acc)\n",
    "print('precision=',pre)\n",
    "print('recall=',rec)\n",
    "a=confusion_matrix(y_test, y_pred)\n",
    "cm_display = ConfusionMatrixDisplay(a).plot(cmap=plt.cm.Blues)"
   ]
  },
  {
   "cell_type": "code",
   "execution_count": 335,
   "id": "7a51b299",
   "metadata": {
    "scrolled": true
   },
   "outputs": [
    {
     "name": "stdout",
     "output_type": "stream",
     "text": [
      "accuracy=  0.6337234503684439\n"
     ]
    }
   ],
   "source": [
    "from sklearn.feature_selection import  RFECV\n",
    "log = LogisticRegression(random_state=42,penalty='l2',C=1,max_iter=500)\n",
    "rfe = RFECV(estimator=log,          # 学习器\n",
    "              step=1,                 # 移除特征个数\n",
    "          scoring='accuracy')\n",
    "rfe = rfe.fit(X_train,y_train)\n",
    "#print(rfe.support_)\n",
    "#print(rfe.ranking_)\n",
    "y_pred=rfe.predict(X_test)\n",
    "print('accuracy= ',accuracy_score(y_test, y_pred))"
   ]
  },
  {
   "cell_type": "code",
   "execution_count": 336,
   "id": "f246a44b",
   "metadata": {
    "scrolled": false
   },
   "outputs": [
    {
     "name": "stdout",
     "output_type": "stream",
     "text": [
      "confusion matrix:\n",
      " preds     0    1\n",
      "actual          \n",
      "0       848  387\n",
      "1       458  614\n",
      "accuracy= 0.6337234503684439\n",
      "precision= 0.6866396761133603\n",
      "recall= 0.6493108728943339\n"
     ]
    },
    {
     "data": {
      "image/png": "[encoded data removed]",
      "text/plain": [
       "<Figure size 432x288 with 2 Axes>"
      ]
     },
     "metadata": {
      "needs_background": "light"
     },
     "output_type": "display_data"
    }
   ],
   "source": [
    "a=pd.crosstab(y_test, y_pred, rownames=['actual'], colnames=['preds'])\n",
    "acc=(a.iloc[0,0]+a.iloc[1,1])/(a.iloc[0,0]+a.iloc[0,1]+a.iloc[1,0]+a.iloc[1,1])\n",
    "pre=(a.iloc[0,0])/(a.iloc[0,0]+a.iloc[0,1])\n",
    "rec=(a.iloc[0,0])/(a.iloc[0,0]+a.iloc[1,0])\n",
    "print('confusion matrix:\\n',a)\n",
    "print('accuracy=',acc)\n",
    "print('precision=',pre)\n",
    "print('recall=',rec)\n",
    "a=confusion_matrix(y_test, y_pred)\n",
    "cm_display = ConfusionMatrixDisplay(a).plot(cmap=plt.cm.Blues)"
   ]
  },
  {
   "cell_type": "markdown",
   "id": "cf592006",
   "metadata": {},
   "source": [
    "# 神经网络"
   ]
  },
  {
   "cell_type": "code",
   "execution_count": 380,
   "id": "a7c7eba8",
   "metadata": {},
   "outputs": [],
   "source": [
    "from sklearn import neural_network\n",
    "\n",
    "mlp=neural_network.MLPClassifier(hidden_layer_sizes=(10), #隐藏层\n",
    "                                 #（10,20）指的是隐藏层层数+每层单元数\n",
    "                                activation='relu',  #激活函数\n",
    "                                solver='adam',\n",
    "                                alpha=0.0001,  #正则化项系数\n",
    "                                batch_size='auto',\n",
    "                                learning_rate='constant',  #学习率\n",
    "                                learning_rate_init=0.001,\n",
    "                                power_t=0.5,\n",
    "                                max_iter=10000,  #迭代次数\n",
    "                                tol=1e-4)\n",
    "mlp.fit(X_train, y_train)\n",
    "y_pred = mlp.predict(X_test)  #预测结果"
   ]
  },
  {
   "cell_type": "code",
   "execution_count": 379,
   "id": "92afeb0d",
   "metadata": {},
   "outputs": [
    {
     "name": "stdout",
     "output_type": "stream",
     "text": [
      "              precision    recall  f1-score   support\n",
      "\n",
      "           0       0.66      0.74      0.70      1235\n",
      "           1       0.65      0.56      0.60      1072\n",
      "\n",
      "    accuracy                           0.65      2307\n",
      "   macro avg       0.65      0.65      0.65      2307\n",
      "weighted avg       0.65      0.65      0.65      2307\n",
      "\n",
      "[[910 325]\n",
      " [471 601]]\n",
      "0.6549631556133507\n"
     ]
    }
   ],
   "source": [
    "print(classification_report(y_test, y_pred))\n",
    "conf = confusion_matrix(y_test,y_pred)\n",
    "print(conf)\n",
    "#精度\n",
    "print((conf[0][0]+conf[1][1])/len(y_test))"
   ]
  },
  {
   "cell_type": "code",
   "execution_count": 333,
   "id": "46174cf2",
   "metadata": {},
   "outputs": [
    {
     "name": "stdout",
     "output_type": "stream",
     "text": [
      "LogisticRegression 0.6298222800173385\n",
      "RandomForestClassifier 0.6909406155179887\n",
      "KNeighborsClassifier 0.6337234503684439\n",
      "VotingClassifier 0.6636324230602514\n"
     ]
    }
   ],
   "source": [
    "voting_clf = VotingClassifier(\n",
    "        estimators=[('log', log), ('rf', rnd), ('knn', knn),('')],\n",
    "        voting='soft'\n",
    "    )\n",
    "voting_clf.fit(X_train, y_train)\n",
    "\n",
    "from sklearn.metrics import accuracy_score\n",
    "\n",
    "for clf in (log, rnd, knn, voting_clf):\n",
    "    clf.fit(X_train, y_train)\n",
    "    y_pred = clf.predict(X_test)\n",
    "    print(clf.__class__.__name__, accuracy_score(y_test, y_pred))"
   ]
  },
  {
   "cell_type": "code",
   "execution_count": 121,
   "id": "48d47b93",
   "metadata": {},
   "outputs": [],
   "source": [
    "#log_clf = LogisticRegression(random_state=42)\n",
    "#rnd_clf = RandomForestClassifier(random_state=42)\n",
    "#svm_clf = SVC(probability=True, random_state=42)"
   ]
  }
 ],
 "metadata": {
  "kernelspec": {
   "display_name": "Python 3 (ipykernel)",
   "language": "python",
   "name": "python3"
  },
  "language_info": {
   "codemirror_mode": {
    "name": "ipython",
    "version": 3
   },
   "file_extension": ".py",
   "mimetype": "text/x-python",
   "name": "python",
   "nbconvert_exporter": "python",
   "pygments_lexer": "ipython3",
   "version": "3.9.12"
  }
 },
 "nbformat": 4,
 "nbformat_minor": 5
}
